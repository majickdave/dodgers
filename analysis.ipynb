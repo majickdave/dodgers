{
 "cells": [
  {
   "cell_type": "markdown",
   "metadata": {},
   "source": [
    "# Business Analytics Modeling Assessment \n",
    "    submited by David Samuel, Data Scientist"
   ]
  },
  {
   "cell_type": "code",
   "execution_count": 22,
   "metadata": {},
   "outputs": [],
   "source": [
    "# Import Data Analysis Tool Kit\n",
    "import pandas as pd\n",
    "import numpy as np\n",
    "import matplotlib.pylab as plt\n",
    "%matplotlib inline\n",
    "from matplotlib.pylab import rcParams\n",
    "rcParams['figure.figsize'] = 15, 6"
   ]
  },
  {
   "cell_type": "code",
   "execution_count": 23,
   "metadata": {},
   "outputs": [
    {
     "data": {
      "text/html": [
       "<div>\n",
       "<style scoped>\n",
       "    .dataframe tbody tr th:only-of-type {\n",
       "        vertical-align: middle;\n",
       "    }\n",
       "\n",
       "    .dataframe tbody tr th {\n",
       "        vertical-align: top;\n",
       "    }\n",
       "\n",
       "    .dataframe thead th {\n",
       "        text-align: right;\n",
       "    }\n",
       "</style>\n",
       "<table border=\"1\" class=\"dataframe\">\n",
       "  <thead>\n",
       "    <tr style=\"text-align: right;\">\n",
       "      <th></th>\n",
       "      <th>event_id</th>\n",
       "      <th>listing_date</th>\n",
       "      <th>event_listing_date_id</th>\n",
       "      <th>taxonomy</th>\n",
       "      <th>event_title</th>\n",
       "      <th>event_datetime</th>\n",
       "      <th>tickets_listed</th>\n",
       "      <th>mean_listing_price</th>\n",
       "      <th>performer_1</th>\n",
       "      <th>performer_2</th>\n",
       "      <th>performer_3</th>\n",
       "      <th>performer_4</th>\n",
       "      <th>venue_name</th>\n",
       "    </tr>\n",
       "  </thead>\n",
       "  <tbody>\n",
       "    <tr>\n",
       "      <th>0</th>\n",
       "      <td>3594065</td>\n",
       "      <td>2017-06-01</td>\n",
       "      <td>3594065_17318</td>\n",
       "      <td>MLB Baseball</td>\n",
       "      <td>Arizona Diamondbacks at Los Angeles Dodgers</td>\n",
       "      <td>2017-09-07T02:10:00Z</td>\n",
       "      <td>8942.000</td>\n",
       "      <td>56.000</td>\n",
       "      <td>Los Angeles Dodgers</td>\n",
       "      <td>Arizona Diamondbacks</td>\n",
       "      <td>NaN</td>\n",
       "      <td>NaN</td>\n",
       "      <td>Dodger Stadium</td>\n",
       "    </tr>\n",
       "    <tr>\n",
       "      <th>1</th>\n",
       "      <td>3594068</td>\n",
       "      <td>2017-06-01</td>\n",
       "      <td>3594068_17318</td>\n",
       "      <td>MLB Baseball</td>\n",
       "      <td>Arizona Diamondbacks at Los Angeles Dodgers</td>\n",
       "      <td>2017-09-06T02:10:00Z</td>\n",
       "      <td>11642.000</td>\n",
       "      <td>32.000</td>\n",
       "      <td>Los Angeles Dodgers</td>\n",
       "      <td>Arizona Diamondbacks</td>\n",
       "      <td>NaN</td>\n",
       "      <td>NaN</td>\n",
       "      <td>Dodger Stadium</td>\n",
       "    </tr>\n",
       "    <tr>\n",
       "      <th>2</th>\n",
       "      <td>3594070</td>\n",
       "      <td>2017-06-01</td>\n",
       "      <td>3594070_17318</td>\n",
       "      <td>MLB Baseball</td>\n",
       "      <td>Arizona Diamondbacks at Los Angeles Dodgers</td>\n",
       "      <td>2017-09-05T00:10:00Z</td>\n",
       "      <td>10344.000</td>\n",
       "      <td>49.000</td>\n",
       "      <td>Los Angeles Dodgers</td>\n",
       "      <td>Arizona Diamondbacks</td>\n",
       "      <td>NaN</td>\n",
       "      <td>NaN</td>\n",
       "      <td>Dodger Stadium</td>\n",
       "    </tr>\n",
       "    <tr>\n",
       "      <th>3</th>\n",
       "      <td>3594118</td>\n",
       "      <td>2017-06-01</td>\n",
       "      <td>3594118_17318</td>\n",
       "      <td>MLB Baseball</td>\n",
       "      <td>Arizona Diamondbacks at Los Angeles Dodgers</td>\n",
       "      <td>2017-07-06T02:10:00Z</td>\n",
       "      <td>13130.000</td>\n",
       "      <td>32.000</td>\n",
       "      <td>Los Angeles Dodgers</td>\n",
       "      <td>Arizona Diamondbacks</td>\n",
       "      <td>NaN</td>\n",
       "      <td>NaN</td>\n",
       "      <td>Dodger Stadium</td>\n",
       "    </tr>\n",
       "    <tr>\n",
       "      <th>4</th>\n",
       "      <td>3594116</td>\n",
       "      <td>2017-06-01</td>\n",
       "      <td>3594116_17318</td>\n",
       "      <td>MLB Baseball</td>\n",
       "      <td>Arizona Diamondbacks at Los Angeles Dodgers</td>\n",
       "      <td>2017-07-07T02:10:00Z</td>\n",
       "      <td>13102.000</td>\n",
       "      <td>48.000</td>\n",
       "      <td>Los Angeles Dodgers</td>\n",
       "      <td>Arizona Diamondbacks</td>\n",
       "      <td>NaN</td>\n",
       "      <td>NaN</td>\n",
       "      <td>Dodger Stadium</td>\n",
       "    </tr>\n",
       "  </tbody>\n",
       "</table>\n",
       "</div>"
      ],
      "text/plain": [
       "   event_id listing_date event_listing_date_id      taxonomy  \\\n",
       "0   3594065   2017-06-01         3594065_17318  MLB Baseball   \n",
       "1   3594068   2017-06-01         3594068_17318  MLB Baseball   \n",
       "2   3594070   2017-06-01         3594070_17318  MLB Baseball   \n",
       "3   3594118   2017-06-01         3594118_17318  MLB Baseball   \n",
       "4   3594116   2017-06-01         3594116_17318  MLB Baseball   \n",
       "\n",
       "                                   event_title        event_datetime  \\\n",
       "0  Arizona Diamondbacks at Los Angeles Dodgers  2017-09-07T02:10:00Z   \n",
       "1  Arizona Diamondbacks at Los Angeles Dodgers  2017-09-06T02:10:00Z   \n",
       "2  Arizona Diamondbacks at Los Angeles Dodgers  2017-09-05T00:10:00Z   \n",
       "3  Arizona Diamondbacks at Los Angeles Dodgers  2017-07-06T02:10:00Z   \n",
       "4  Arizona Diamondbacks at Los Angeles Dodgers  2017-07-07T02:10:00Z   \n",
       "\n",
       "   tickets_listed  mean_listing_price          performer_1  \\\n",
       "0        8942.000              56.000  Los Angeles Dodgers   \n",
       "1       11642.000              32.000  Los Angeles Dodgers   \n",
       "2       10344.000              49.000  Los Angeles Dodgers   \n",
       "3       13130.000              32.000  Los Angeles Dodgers   \n",
       "4       13102.000              48.000  Los Angeles Dodgers   \n",
       "\n",
       "            performer_2 performer_3 performer_4      venue_name  \n",
       "0  Arizona Diamondbacks         NaN         NaN  Dodger Stadium  \n",
       "1  Arizona Diamondbacks         NaN         NaN  Dodger Stadium  \n",
       "2  Arizona Diamondbacks         NaN         NaN  Dodger Stadium  \n",
       "3  Arizona Diamondbacks         NaN         NaN  Dodger Stadium  \n",
       "4  Arizona Diamondbacks         NaN         NaN  Dodger Stadium  "
      ]
     },
     "execution_count": 23,
     "metadata": {},
     "output_type": "execute_result"
    }
   ],
   "source": [
    "#Import data into pandas data frame\n",
    "df = pd.read_csv('./data/assessment_data.tsv', sep='\\t', header=0)\n",
    "\n",
    "df.head()"
   ]
  },
  {
   "cell_type": "markdown",
   "metadata": {},
   "source": [
    "## Step 1: Describe the data\n",
    "- Define the scope of analysis\n",
    "- Format data\n",
    "- Handle missing data\n"
   ]
  },
  {
   "cell_type": "code",
   "execution_count": 24,
   "metadata": {},
   "outputs": [
    {
     "name": "stdout",
     "output_type": "stream",
     "text": [
      "<class 'pandas.core.frame.DataFrame'>\n",
      "RangeIndex: 8980 entries, 0 to 8979\n",
      "Data columns (total 13 columns):\n",
      "event_id                 8980 non-null int64\n",
      "listing_date             8980 non-null object\n",
      "event_listing_date_id    8980 non-null object\n",
      "taxonomy                 8839 non-null object\n",
      "event_title              8980 non-null object\n",
      "event_datetime           8980 non-null object\n",
      "tickets_listed           6334 non-null float64\n",
      "mean_listing_price       6334 non-null float64\n",
      "performer_1              8980 non-null object\n",
      "performer_2              5668 non-null object\n",
      "performer_3              201 non-null object\n",
      "performer_4              11 non-null object\n",
      "venue_name               8980 non-null object\n",
      "dtypes: float64(2), int64(1), object(10)\n",
      "memory usage: 912.1+ KB\n"
     ]
    }
   ],
   "source": [
    "df.info()"
   ]
  },
  {
   "cell_type": "markdown",
   "metadata": {},
   "source": [
    "### There are 8,980 events and ticket data on 6,334 events.\n",
    "This project will predict both, the number of tickets, and the mean listing price for those tickets listed for the remaining 2,646 events "
   ]
  },
  {
   "cell_type": "markdown",
   "metadata": {},
   "source": [
    "## Step 2: Compare the data\n",
    "- Look at groups\n",
    "- analyze the normality of the data\n",
    "- prepare data for testing"
   ]
  },
  {
   "cell_type": "code",
   "execution_count": 25,
   "metadata": {},
   "outputs": [
    {
     "data": {
      "text/plain": [
       "event_id                 8980\n",
       "listing_date             8980\n",
       "event_listing_date_id    8980\n",
       "taxonomy                 8839\n",
       "event_title              8980\n",
       "event_datetime           8980\n",
       "tickets_listed           6334\n",
       "mean_listing_price       6334\n",
       "performer_1              8980\n",
       "performer_2              5668\n",
       "performer_3               201\n",
       "performer_4                11\n",
       "venue_name               8980\n",
       "dtype: int64"
      ]
     },
     "execution_count": 25,
     "metadata": {},
     "output_type": "execute_result"
    }
   ],
   "source": [
    "df.count()"
   ]
  },
  {
   "cell_type": "code",
   "execution_count": 26,
   "metadata": {},
   "outputs": [
    {
     "data": {
      "image/png": "[encoded data removed]",
      "text/plain": [
       "<Figure size 450x450 with 1 Axes>"
      ]
     },
     "metadata": {},
     "output_type": "display_data"
    }
   ],
   "source": [
    "import matplotlib.figure as fig\n",
    "import matplotlib.pyplot as plt\n",
    "\n",
    "plt.figure(figsize=(3,3), dpi=150, facecolor=\"#e3f0f4\")\n",
    "ax = plt.title('Event Distribution by Venue')\n",
    "patches, texts, autotexts = plt.pie(df.venue_name.value_counts(), labels=df.venue_name.unique(), autopct='%1.1f%%', textprops={'color': 'white'})\n",
    "\n",
    "# Make the labels on the small plot easier to read.\n",
    "for t in texts:\n",
    "    t.set_color('black')\n",
    "    \n",
    "for t in autotexts:\n",
    "    t.set_size('large')\n",
    "\n",
    "plt.show()"
   ]
  },
  {
   "cell_type": "code",
   "execution_count": 27,
   "metadata": {},
   "outputs": [
    {
     "data": {
      "text/html": [
       "<div>\n",
       "<style scoped>\n",
       "    .dataframe tbody tr th:only-of-type {\n",
       "        vertical-align: middle;\n",
       "    }\n",
       "\n",
       "    .dataframe tbody tr th {\n",
       "        vertical-align: top;\n",
       "    }\n",
       "\n",
       "    .dataframe thead tr th {\n",
       "        text-align: left;\n",
       "    }\n",
       "\n",
       "    .dataframe thead tr:last-of-type th {\n",
       "        text-align: right;\n",
       "    }\n",
       "</style>\n",
       "<table border=\"1\" class=\"dataframe\">\n",
       "  <thead>\n",
       "    <tr>\n",
       "      <th></th>\n",
       "      <th colspan=\"8\" halign=\"left\">tickets_listed</th>\n",
       "      <th colspan=\"8\" halign=\"left\">mean_listing_price</th>\n",
       "    </tr>\n",
       "    <tr>\n",
       "      <th></th>\n",
       "      <th>count</th>\n",
       "      <th>mean</th>\n",
       "      <th>std</th>\n",
       "      <th>min</th>\n",
       "      <th>25%</th>\n",
       "      <th>50%</th>\n",
       "      <th>75%</th>\n",
       "      <th>max</th>\n",
       "      <th>count</th>\n",
       "      <th>mean</th>\n",
       "      <th>std</th>\n",
       "      <th>min</th>\n",
       "      <th>25%</th>\n",
       "      <th>50%</th>\n",
       "      <th>75%</th>\n",
       "      <th>max</th>\n",
       "    </tr>\n",
       "    <tr>\n",
       "      <th>venue_name</th>\n",
       "      <th></th>\n",
       "      <th></th>\n",
       "      <th></th>\n",
       "      <th></th>\n",
       "      <th></th>\n",
       "      <th></th>\n",
       "      <th></th>\n",
       "      <th></th>\n",
       "      <th></th>\n",
       "      <th></th>\n",
       "      <th></th>\n",
       "      <th></th>\n",
       "      <th></th>\n",
       "      <th></th>\n",
       "      <th></th>\n",
       "      <th></th>\n",
       "    </tr>\n",
       "  </thead>\n",
       "  <tbody>\n",
       "    <tr>\n",
       "      <th>Chickasaw Bricktown Ballpark</th>\n",
       "      <td>1783.000</td>\n",
       "      <td>44.145</td>\n",
       "      <td>26.306</td>\n",
       "      <td>3.000</td>\n",
       "      <td>23.000</td>\n",
       "      <td>30.000</td>\n",
       "      <td>67.000</td>\n",
       "      <td>117.000</td>\n",
       "      <td>1783.000</td>\n",
       "      <td>35.338</td>\n",
       "      <td>3.404</td>\n",
       "      <td>25.000</td>\n",
       "      <td>33.000</td>\n",
       "      <td>36.000</td>\n",
       "      <td>37.260</td>\n",
       "      <td>69.000</td>\n",
       "    </tr>\n",
       "    <tr>\n",
       "      <th>Dodger Stadium</th>\n",
       "      <td>2194.000</td>\n",
       "      <td>9240.490</td>\n",
       "      <td>1832.835</td>\n",
       "      <td>892.000</td>\n",
       "      <td>8496.500</td>\n",
       "      <td>9559.500</td>\n",
       "      <td>10412.500</td>\n",
       "      <td>13594.000</td>\n",
       "      <td>2194.000</td>\n",
       "      <td>51.393</td>\n",
       "      <td>16.802</td>\n",
       "      <td>10.000</td>\n",
       "      <td>41.000</td>\n",
       "      <td>48.000</td>\n",
       "      <td>64.000</td>\n",
       "      <td>139.020</td>\n",
       "    </tr>\n",
       "    <tr>\n",
       "      <th>Walt Disney Concert Hall</th>\n",
       "      <td>2357.000</td>\n",
       "      <td>41.328</td>\n",
       "      <td>13.240</td>\n",
       "      <td>3.000</td>\n",
       "      <td>33.000</td>\n",
       "      <td>39.000</td>\n",
       "      <td>50.000</td>\n",
       "      <td>95.000</td>\n",
       "      <td>2357.000</td>\n",
       "      <td>541.387</td>\n",
       "      <td>160.125</td>\n",
       "      <td>86.000</td>\n",
       "      <td>462.560</td>\n",
       "      <td>565.320</td>\n",
       "      <td>615.330</td>\n",
       "      <td>857.430</td>\n",
       "    </tr>\n",
       "  </tbody>\n",
       "</table>\n",
       "</div>"
      ],
      "text/plain": [
       "                             tickets_listed                            \\\n",
       "                                      count     mean      std     min   \n",
       "venue_name                                                              \n",
       "Chickasaw Bricktown Ballpark       1783.000   44.145   26.306   3.000   \n",
       "Dodger Stadium                     2194.000 9240.490 1832.835 892.000   \n",
       "Walt Disney Concert Hall           2357.000   41.328   13.240   3.000   \n",
       "\n",
       "                                                                    \\\n",
       "                                  25%      50%       75%       max   \n",
       "venue_name                                                           \n",
       "Chickasaw Bricktown Ballpark   23.000   30.000    67.000   117.000   \n",
       "Dodger Stadium               8496.500 9559.500 10412.500 13594.000   \n",
       "Walt Disney Concert Hall       33.000   39.000    50.000    95.000   \n",
       "\n",
       "                             mean_listing_price                         \\\n",
       "                                          count    mean     std    min   \n",
       "venue_name                                                               \n",
       "Chickasaw Bricktown Ballpark           1783.000  35.338   3.404 25.000   \n",
       "Dodger Stadium                         2194.000  51.393  16.802 10.000   \n",
       "Walt Disney Concert Hall               2357.000 541.387 160.125 86.000   \n",
       "\n",
       "                                                              \n",
       "                                 25%     50%     75%     max  \n",
       "venue_name                                                    \n",
       "Chickasaw Bricktown Ballpark  33.000  36.000  37.260  69.000  \n",
       "Dodger Stadium                41.000  48.000  64.000 139.020  \n",
       "Walt Disney Concert Hall     462.560 565.320 615.330 857.430  "
      ]
     },
     "execution_count": 27,
     "metadata": {},
     "output_type": "execute_result"
    }
   ],
   "source": [
    "df[['tickets_listed', 'mean_listing_price']][df.tickets_listed.notnull()].groupby(df['venue_name']).describe()"
   ]
  },
  {
   "cell_type": "markdown",
   "metadata": {},
   "source": [
    "### On average...\n",
    "\n",
    "1. Dodgers Stadium leads the ticket listings by several orders of magnitude with 9,240.\n",
    "2. Listings for Chickasaw Bricktown Ballpark and Walt Disney Concert Hall are similar, but not in price."
   ]
  },
  {
   "cell_type": "code",
   "execution_count": 28,
   "metadata": {},
   "outputs": [],
   "source": [
    "df['months'] = pd.PeriodIndex(df.event_datetime, freq='M')\n",
    "dates = df.sort_values('months', ascending=True)"
   ]
  },
  {
   "cell_type": "code",
   "execution_count": 29,
   "metadata": {},
   "outputs": [],
   "source": [
    "df['listings'] = pd.PeriodIndex(df.listing_date, freq='M')\n",
    "listing_dates = df.sort_values('months', ascending=True)"
   ]
  },
  {
   "cell_type": "markdown",
   "metadata": {},
   "source": [
    "# Look at listings by date"
   ]
  },
  {
   "cell_type": "code",
   "execution_count": 30,
   "metadata": {},
   "outputs": [
    {
     "data": {
      "image/png": "[encoded data removed]",
      "text/plain": [
       "<Figure size 1200x300 with 1 Axes>"
      ]
     },
     "metadata": {},
     "output_type": "display_data"
    }
   ],
   "source": [
    "\n",
    "plt.figure(figsize=(12,3), dpi=100, facecolor=\"#e3f0f4\")\n",
    "ax = plt.title('Listing Dates by Month')\n",
    "ax = listing_dates.listings.value_counts().plot.barh()\n",
    "\n",
    "plt.xticks(rotation='0')\n",
    "plt.show()"
   ]
  },
  {
   "cell_type": "code",
   "execution_count": 31,
   "metadata": {},
   "outputs": [
    {
     "data": {
      "image/png": "[encoded data removed]",
      "text/plain": [
       "<Figure size 1500x375 with 1 Axes>"
      ]
     },
     "metadata": {},
     "output_type": "display_data"
    }
   ],
   "source": [
    "\n",
    "plt.figure(figsize=(12,3), dpi=125, facecolor=\"#e3f0f4\")\n",
    "ax = plt.title('Number of events by month')\n",
    "ax = dates.months.value_counts().plot.bar()\n",
    "ax.grid(color='lightgray', linestyle='-', linewidth=0.5, axis='y')\n",
    "plt.xticks(rotation='20')\n",
    "plt.show()"
   ]
  },
  {
   "cell_type": "markdown",
   "metadata": {},
   "source": [
    "### Now look at only dates where tickets are listed to find prices"
   ]
  },
  {
   "cell_type": "code",
   "execution_count": 32,
   "metadata": {},
   "outputs": [],
   "source": [
    "df = df[df.tickets_listed.notnull()]"
   ]
  },
  {
   "cell_type": "code",
   "execution_count": 33,
   "metadata": {},
   "outputs": [],
   "source": [
    "# df['time'] = pd.to_datetime(df.event_datetime)"
   ]
  },
  {
   "cell_type": "code",
   "execution_count": 34,
   "metadata": {},
   "outputs": [
    {
     "ename": "AttributeError",
     "evalue": "'DataFrame' object has no attribute 'time'",
     "output_type": "error",
     "traceback": [
      "\u001b[0;31m---------------------------------------------------------------------------\u001b[0m",
      "\u001b[0;31mAttributeError\u001b[0m                            Traceback (most recent call last)",
      "\u001b[0;32m<ipython-input-34-808a024d0a1b>\u001b[0m in \u001b[0;36m<module>\u001b[0;34m()\u001b[0m\n\u001b[0;32m----> 1\u001b[0;31m \u001b[0mdf\u001b[0m\u001b[0;34m[\u001b[0m\u001b[0mdf\u001b[0m\u001b[0;34m.\u001b[0m\u001b[0mtime\u001b[0m \u001b[0;34m<\u001b[0m \u001b[0;34m'2018-02'\u001b[0m\u001b[0;34m]\u001b[0m\u001b[0;34m.\u001b[0m\u001b[0mhead\u001b[0m\u001b[0;34m(\u001b[0m\u001b[0;34m)\u001b[0m\u001b[0;34m\u001b[0m\u001b[0m\n\u001b[0m",
      "\u001b[0;32m~/data-science/dodgers/lib/python3.6/site-packages/pandas/core/generic.py\u001b[0m in \u001b[0;36m__getattr__\u001b[0;34m(self, name)\u001b[0m\n\u001b[1;32m   3612\u001b[0m             \u001b[0;32mif\u001b[0m \u001b[0mname\u001b[0m \u001b[0;32min\u001b[0m \u001b[0mself\u001b[0m\u001b[0;34m.\u001b[0m\u001b[0m_info_axis\u001b[0m\u001b[0;34m:\u001b[0m\u001b[0;34m\u001b[0m\u001b[0m\n\u001b[1;32m   3613\u001b[0m                 \u001b[0;32mreturn\u001b[0m \u001b[0mself\u001b[0m\u001b[0;34m[\u001b[0m\u001b[0mname\u001b[0m\u001b[0;34m]\u001b[0m\u001b[0;34m\u001b[0m\u001b[0m\n\u001b[0;32m-> 3614\u001b[0;31m             \u001b[0;32mreturn\u001b[0m \u001b[0mobject\u001b[0m\u001b[0;34m.\u001b[0m\u001b[0m__getattribute__\u001b[0m\u001b[0;34m(\u001b[0m\u001b[0mself\u001b[0m\u001b[0;34m,\u001b[0m \u001b[0mname\u001b[0m\u001b[0;34m)\u001b[0m\u001b[0;34m\u001b[0m\u001b[0m\n\u001b[0m\u001b[1;32m   3615\u001b[0m \u001b[0;34m\u001b[0m\u001b[0m\n\u001b[1;32m   3616\u001b[0m     \u001b[0;32mdef\u001b[0m \u001b[0m__setattr__\u001b[0m\u001b[0;34m(\u001b[0m\u001b[0mself\u001b[0m\u001b[0;34m,\u001b[0m \u001b[0mname\u001b[0m\u001b[0;34m,\u001b[0m \u001b[0mvalue\u001b[0m\u001b[0;34m)\u001b[0m\u001b[0;34m:\u001b[0m\u001b[0;34m\u001b[0m\u001b[0m\n",
      "\u001b[0;31mAttributeError\u001b[0m: 'DataFrame' object has no attribute 'time'"
     ]
    }
   ],
   "source": [
    "df[df.time < '2018-02'].head()"
   ]
  },
  {
   "cell_type": "code",
   "execution_count": 35,
   "metadata": {},
   "outputs": [],
   "source": [
    "df['days'] = pd.PeriodIndex(df.listing_date, freq='D')\n",
    "days = df.sort_values('days', ascending=True)"
   ]
  },
  {
   "cell_type": "code",
   "execution_count": 36,
   "metadata": {},
   "outputs": [],
   "source": [
    "import pandas as pd\n",
    "from matplotlib import pyplot as plt\n",
    "import numpy as np\n",
    "from sklearn import linear_model\n",
    "%matplotlib inline\n",
    "pd.options.display.float_format = '{:.3f}'.format\n",
    "\n",
    "# Suppress annoying harmless error.\n",
    "import warnings\n",
    "warnings.filterwarnings(action=\"ignore\", module=\"scipy\", message=\"^internal gelsd\")"
   ]
  },
  {
   "cell_type": "code",
   "execution_count": 37,
   "metadata": {},
   "outputs": [
    {
     "ename": "ValueError",
     "evalue": "Unable to parse string \"2017-09-07T02:10:00Z\" at position 0",
     "output_type": "error",
     "traceback": [
      "\u001b[0;31m---------------------------------------------------------------------------\u001b[0m",
      "\u001b[0;31mValueError\u001b[0m                                Traceback (most recent call last)",
      "\u001b[0;32mpandas/_libs/src/inference.pyx\u001b[0m in \u001b[0;36mpandas._libs.lib.maybe_convert_numeric\u001b[0;34m()\u001b[0m\n",
      "\u001b[0;31mValueError\u001b[0m: Unable to parse string \"2017-09-07T02:10:00Z\"",
      "\nDuring handling of the above exception, another exception occurred:\n",
      "\u001b[0;31mValueError\u001b[0m                                Traceback (most recent call last)",
      "\u001b[0;32m<ipython-input-37-14edcc5e13c8>\u001b[0m in \u001b[0;36m<module>\u001b[0;34m()\u001b[0m\n\u001b[1;32m      1\u001b[0m \u001b[0;31m# Sample data to play with.\u001b[0m\u001b[0;34m\u001b[0m\u001b[0;34m\u001b[0m\u001b[0m\n\u001b[1;32m      2\u001b[0m \u001b[0my\u001b[0m \u001b[0;34m=\u001b[0m \u001b[0mdf\u001b[0m\u001b[0;34m[\u001b[0m\u001b[0;34m'mean_listing_price'\u001b[0m\u001b[0;34m]\u001b[0m\u001b[0;34m.\u001b[0m\u001b[0mdropna\u001b[0m\u001b[0;34m(\u001b[0m\u001b[0;34m)\u001b[0m\u001b[0;34m\u001b[0m\u001b[0m\n\u001b[0;32m----> 3\u001b[0;31m \u001b[0mx\u001b[0m \u001b[0;34m=\u001b[0m \u001b[0mpd\u001b[0m\u001b[0;34m.\u001b[0m\u001b[0mto_numeric\u001b[0m\u001b[0;34m(\u001b[0m\u001b[0mdf\u001b[0m\u001b[0;34m.\u001b[0m\u001b[0mevent_datetime\u001b[0m\u001b[0;34m)\u001b[0m\u001b[0;34m\u001b[0m\u001b[0m\n\u001b[0m\u001b[1;32m      4\u001b[0m \u001b[0;34m\u001b[0m\u001b[0m\n\u001b[1;32m      5\u001b[0m \u001b[0mplt\u001b[0m\u001b[0;34m.\u001b[0m\u001b[0mscatter\u001b[0m\u001b[0;34m(\u001b[0m\u001b[0mx\u001b[0m\u001b[0;34m,\u001b[0m \u001b[0my\u001b[0m\u001b[0;34m)\u001b[0m\u001b[0;34m\u001b[0m\u001b[0m\n",
      "\u001b[0;32m~/data-science/dodgers/lib/python3.6/site-packages/pandas/core/tools/numeric.py\u001b[0m in \u001b[0;36mto_numeric\u001b[0;34m(arg, errors, downcast)\u001b[0m\n\u001b[1;32m    131\u001b[0m             \u001b[0mcoerce_numeric\u001b[0m \u001b[0;34m=\u001b[0m \u001b[0;32mFalse\u001b[0m \u001b[0;32mif\u001b[0m \u001b[0merrors\u001b[0m \u001b[0;32min\u001b[0m \u001b[0;34m(\u001b[0m\u001b[0;34m'ignore'\u001b[0m\u001b[0;34m,\u001b[0m \u001b[0;34m'raise'\u001b[0m\u001b[0;34m)\u001b[0m \u001b[0;32melse\u001b[0m \u001b[0;32mTrue\u001b[0m\u001b[0;34m\u001b[0m\u001b[0m\n\u001b[1;32m    132\u001b[0m             values = lib.maybe_convert_numeric(values, set(),\n\u001b[0;32m--> 133\u001b[0;31m                                                coerce_numeric=coerce_numeric)\n\u001b[0m\u001b[1;32m    134\u001b[0m \u001b[0;34m\u001b[0m\u001b[0m\n\u001b[1;32m    135\u001b[0m     \u001b[0;32mexcept\u001b[0m \u001b[0mException\u001b[0m\u001b[0;34m:\u001b[0m\u001b[0;34m\u001b[0m\u001b[0m\n",
      "\u001b[0;32mpandas/_libs/src/inference.pyx\u001b[0m in \u001b[0;36mpandas._libs.lib.maybe_convert_numeric\u001b[0;34m()\u001b[0m\n",
      "\u001b[0;31mValueError\u001b[0m: Unable to parse string \"2017-09-07T02:10:00Z\" at position 0"
     ]
    }
   ],
   "source": [
    "# Sample data to play with.\n",
    "y = df['mean_listing_price'].dropna()\n",
    "x = pd.to_numeric(df.event_datetime)\n",
    "\n",
    "plt.scatter(x, y)"
   ]
  },
  {
   "cell_type": "code",
   "execution_count": null,
   "metadata": {},
   "outputs": [],
   "source": [
    "# Instantiate our model.\n",
    "regr = linear_model.LinearRegression()\n",
    "\n",
    "# Fit our model to our data.\n",
    "regr.fit(x, y)\n",
    "\n",
    "# Display the attributes we calculated.\n",
    "print('Coefficients: \\n', regr.coef_)\n",
    "print('Intercept: \\n', regr.intercept_)\n",
    "\n",
    "# Plot outputs\n",
    "plt.scatter(x, y, color='black')\n",
    "plt.plot(x, regr.predict(x), color='blue', linewidth=3)\n",
    "plt.show()"
   ]
  },
  {
   "cell_type": "code",
   "execution_count": null,
   "metadata": {},
   "outputs": [],
   "source": []
  },
  {
   "cell_type": "code",
   "execution_count": null,
   "metadata": {},
   "outputs": [],
   "source": []
  },
  {
   "cell_type": "code",
   "execution_count": null,
   "metadata": {},
   "outputs": [],
   "source": []
  },
  {
   "cell_type": "code",
   "execution_count": null,
   "metadata": {},
   "outputs": [],
   "source": []
  },
  {
   "cell_type": "code",
   "execution_count": null,
   "metadata": {},
   "outputs": [],
   "source": []
  }
 ],
 "metadata": {
  "kernelspec": {
   "display_name": "dodgers",
   "language": "python",
   "name": "dodgers"
  },
  "language_info": {
   "codemirror_mode": {
    "name": "ipython",
    "version": 3
   },
   "file_extension": ".py",
   "mimetype": "text/x-python",
   "name": "python",
   "nbconvert_exporter": "python",
   "pygments_lexer": "ipython3",
   "version": "3.6.4"
  }
 },
 "nbformat": 4,
 "nbformat_minor": 2
}
